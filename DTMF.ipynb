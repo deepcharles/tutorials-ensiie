{
 "cells": [
  {
   "cell_type": "markdown",
   "id": "6ca1dc2d",
   "metadata": {},
   "source": [
    "# Imports"
   ]
  },
  {
   "cell_type": "code",
   "execution_count": null,
   "id": "31802913-44a1-4242-a6c8-09401fe36b80",
   "metadata": {
    "tags": []
   },
   "outputs": [],
   "source": [
    "from pathlib import Path\n",
    "\n",
    "import IPython\n",
    "import matplotlib.pyplot as plt\n",
    "import numpy as np\n",
    "import torch\n",
    "import torch.nn as nn\n",
    "import torchaudio.functional as F\n",
    "import torchaudio.transforms as T\n",
    "from cycler import cycler\n",
    "from einops import asnumpy, parse_shape, rearrange, reduce\n",
    "from einops.layers.torch import Rearrange\n",
    "from scipy.signal import chirp, stft, sweep_poly\n",
    "import librosa\n",
    "\n",
    "rng = np.random.default_rng()"
   ]
  },
  {
   "cell_type": "markdown",
   "id": "533e131f",
   "metadata": {},
   "source": [
    "# Functions"
   ]
  },
  {
   "cell_type": "code",
   "execution_count": null,
   "id": "f7f4b00f-b518-4099-ba10-6f6e775c0aab",
   "metadata": {
    "tags": []
   },
   "outputs": [],
   "source": [
    "F1 = np.array([697, 770, 852, 941])\n",
    "F2 = np.array([1209, 1336, 1477, 1633])\n",
    "tones = {\n",
    "    \"1\": (0, 0),\n",
    "    \"2\": (0, 1),\n",
    "    \"3\": (0, 2),\n",
    "    \"4\": (1, 0),\n",
    "    \"5\": (1, 1),\n",
    "    \"6\": (1, 2),\n",
    "    \"7\": (2, 0),\n",
    "    \"8\": (2, 1),\n",
    "    \"9\": (2, 2),\n",
    "    \"0\": (3, 1),\n",
    "    \"*\": (3, 0),\n",
    "    \"#\": (3, 2),\n",
    "    \"A\": (0, 3),\n",
    "    \"B\": (1, 3),\n",
    "    \"C\": (2, 3),\n",
    "    \"D\": (3, 3),\n",
    "}\n",
    "SYMBOLS = list(\"1234567890*#ABCD\")\n",
    "FS = 22_050  # Hz"
   ]
  },
  {
   "cell_type": "code",
   "execution_count": null,
   "id": "ec2fa533-0482-4d34-a0b1-083e4921b402",
   "metadata": {
    "tags": []
   },
   "outputs": [],
   "source": [
    "\n",
    "translate_dict = dict(zip(SYMBOLS, range(len(SYMBOLS))))\n",
    "\n",
    "def tone(symbol, duration, fs):\n",
    "    \"\"\"Generate the sound for symbol with given duration and sampling frequency\"\"\"\n",
    "    inds = tones[symbol]\n",
    "    f1 = F1[inds[0]]\n",
    "    f2 = F2[inds[1]]  # get both frequencies for the digit\n",
    "\n",
    "    t = np.arange(0, duration, 1 / fs)\n",
    "    return np.cos(2 * np.pi * f1 * t) + np.cos(2 * np.pi * f2 * t)  # calculate signal\n",
    "\n",
    "def generate_dataset(n_symbols: int=10):\n",
    "    \"\"\"\n",
    "    Generate a dataset of DTMF signals.\n",
    "\n",
    "    Parameters:\n",
    "    n_symbols (int): Number of symbols to generate in the dataset.\n",
    "\n",
    "    Returns:\n",
    "    list_of_segments (list): List of generated signal segments.\n",
    "    list_of_symbols (list): List of symbols corresponding to the generated signals.\n",
    "    \"\"\"\n",
    "    list_of_symbols = rng.choice(SYMBOLS, size=n_symbols)\n",
    "    list_of_segments = list()\n",
    "\n",
    "    duration = 2048  # samples\n",
    "    for symbol in list_of_symbols:\n",
    "        # generate tone\n",
    "        signal = tone(symbol=symbol, duration=duration / FS, fs=FS)\n",
    "        # generate silence\n",
    "        silence = np.zeros(duration)\n",
    "        # append tone and silence\n",
    "        list_of_segments.append(signal)\n",
    "\n",
    "    return list_of_segments, list_of_symbols.tolist()"
   ]
  },
  {
   "cell_type": "code",
   "execution_count": null,
   "id": "733b20e8-870b-45b0-a63f-2af93d249a97",
   "metadata": {
    "tags": []
   },
   "outputs": [],
   "source": [
    "def plot_waveform(waveform, sr, title=\"Waveform\"):\n",
    "    \"\"\"\n",
    "    Plot the waveform of an audio signal.\n",
    "\n",
    "    Parameters:\n",
    "    waveform (torch.Tensor): The waveform to plot.\n",
    "    sr (int): The sample rate of the waveform.\n",
    "    title (str, optional): The title of the plot. Defaults to \"Waveform\".\n",
    "    \"\"\"\n",
    "    waveform = waveform.numpy()\n",
    "\n",
    "    num_channels, num_frames = waveform.shape\n",
    "    time_axis = torch.arange(0, num_frames) / sr\n",
    "\n",
    "    figure, axes = plt.subplots(num_channels, 1)\n",
    "    axes.plot(time_axis, waveform[0], linewidth=1)\n",
    "    axes.grid(True)\n",
    "    figure.suptitle(title)\n",
    "    plt.show(block=False)\n",
    "\n",
    "\n",
    "def plot_spectrogram(specgram, title=None, ylabel=\"freq_bin\"):\n",
    "    fig, axs = plt.subplots(1, 1)\n",
    "    axs.set_title(title or \"Spectrogram (db)\")\n",
    "    axs.set_ylabel(ylabel)\n",
    "    axs.set_xlabel(\"frame\")\n",
    "    im = axs.imshow(librosa.power_to_db(specgram), origin=\"lower\", aspect=\"auto\")\n",
    "    fig.colorbar(im, ax=axs)\n",
    "    plt.show(block=False)"
   ]
  },
  {
   "cell_type": "markdown",
   "id": "05632895-9222-4254-8dff-1aa58e8c6f2a",
   "metadata": {},
   "source": [
    "## Generate training and testing sets"
   ]
  },
  {
   "cell_type": "code",
   "execution_count": null,
   "id": "97790b19-c3e2-42af-bdaf-c57f30666ade",
   "metadata": {
    "tags": []
   },
   "outputs": [],
   "source": [
    "N_DATA = 100\n",
    "\n",
    "X_train, y_train = generate_dataset(N_DATA)\n",
    "X_test, y_test = generate_dataset(N_DATA)"
   ]
  },
  {
   "cell_type": "markdown",
   "id": "3be9bb9a-e49b-464a-b33a-031892549755",
   "metadata": {},
   "source": [
    "## Display and listen"
   ]
  },
  {
   "cell_type": "code",
   "execution_count": null,
   "id": "060c15e9-182c-4624-aa06-ed62a099d0fc",
   "metadata": {
    "tags": []
   },
   "outputs": [],
   "source": [
    "ind = 2\n",
    "label = \"\".join(SYMBOLS[k] for k in y_train[0, ind])\n",
    "plot_waveform(waveform=X_train[ind], sr=FS, title=label)"
   ]
  },
  {
   "cell_type": "code",
   "execution_count": null,
   "id": "53f32588-5884-40e7-b480-94f672927d74",
   "metadata": {
    "tags": []
   },
   "outputs": [],
   "source": [
    "IPython.display.Audio(X_train[ind], rate=FS)"
   ]
  }
 ],
 "metadata": {
  "kernelspec": {
   "display_name": "ensiie",
   "language": "python",
   "name": "python3"
  },
  "language_info": {
   "codemirror_mode": {
    "name": "ipython",
    "version": 3
   },
   "file_extension": ".py",
   "mimetype": "text/x-python",
   "name": "python",
   "nbconvert_exporter": "python",
   "pygments_lexer": "ipython3",
   "version": "3.12.8"
  }
 },
 "nbformat": 4,
 "nbformat_minor": 5
}
