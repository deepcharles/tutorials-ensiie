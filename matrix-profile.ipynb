{
 "cells": [
  {
   "cell_type": "markdown",
   "metadata": {},
   "source": [
    "**UE Initiation à la R&D - ENSIIE**"
   ]
  },
  {
   "cell_type": "markdown",
   "metadata": {},
   "source": [
    "# Introduction\n",
    "\n",
    "In this tutorial, we illustrate the following concepts:\n",
    "\n",
    "- outlier detection,\n",
    "- matrix profile."
   ]
  },
  {
   "cell_type": "code",
   "execution_count": null,
   "metadata": {},
   "outputs": [],
   "source": [
    "import datetime as dt\n",
    "\n",
    "import matplotlib.pyplot as plt\n",
    "import numpy as np\n",
    "import pandas as pd\n",
    "from loadmydata.load_nyc_taxi import load_nyc_taxi_dataset\n",
    "from scipy.signal import welch"
   ]
  },
  {
   "cell_type": "code",
   "execution_count": null,
   "metadata": {},
   "outputs": [],
   "source": [
    "def fig_ax(figsize=(15, 5)):\n",
    "    return plt.subplots(figsize=figsize)"
   ]
  },
  {
   "cell_type": "markdown",
   "metadata": {},
   "source": [
    "# Data"
   ]
  },
  {
   "cell_type": "code",
   "execution_count": null,
   "metadata": {},
   "outputs": [],
   "source": [
    "X, _, description = load_nyc_taxi_dataset()\n",
    "\n",
    "print(description)"
   ]
  },
  {
   "cell_type": "code",
   "execution_count": null,
   "metadata": {},
   "outputs": [],
   "source": [
    "original_calendar_time_array = X.timestamp.to_numpy()\n",
    "original_taxi_count_np = X.taxi_count.to_numpy()"
   ]
  },
  {
   "cell_type": "code",
   "execution_count": null,
   "metadata": {},
   "outputs": [],
   "source": [
    "daily_taxi_count = X.resample(\"1D\", on=\"timestamp\").sum()\n",
    "daily_taxi_count_np = daily_taxi_count.to_numpy().squeeze()\n",
    "calendar_time_array = daily_taxi_count.index.to_numpy()\n",
    "n_samples = daily_taxi_count_np.size\n",
    "fig, ax = fig_ax()\n",
    "ax.plot(daily_taxi_count, \"*-\")\n",
    "_ = ax.set_ylim(0)"
   ]
  },
  {
   "cell_type": "markdown",
   "metadata": {},
   "source": [
    "<div class=\"alert alert-success\" role=\"alert\">\n",
    "    <p><b>Question</b></p>\n",
    "    <p>What are the sizes of the original signal and daily signal?</p>\n",
    "</div>"
   ]
  },
  {
   "cell_type": "markdown",
   "metadata": {},
   "source": [
    "# Frequency content"
   ]
  },
  {
   "cell_type": "markdown",
   "metadata": {},
   "source": [
    "**Original signal**"
   ]
  },
  {
   "cell_type": "code",
   "execution_count": null,
   "metadata": {},
   "outputs": [],
   "source": [
    "freqs, Pxx_den = welch(original_taxi_count_np, fs=48, nperseg=1024)\n",
    "fig, ax = fig_ax()\n",
    "ax.plot(freqs, Pxx_den)\n",
    "ax.set_xlabel(\"Frequency (1/day)\")\n",
    "ax.set_ylabel(\"PSD\");"
   ]
  },
  {
   "cell_type": "markdown",
   "metadata": {},
   "source": [
    "**Daily signal**"
   ]
  },
  {
   "cell_type": "code",
   "execution_count": null,
   "metadata": {},
   "outputs": [],
   "source": [
    "freqs, Pxx_den = welch(daily_taxi_count_np, fs=1, nperseg=100)\n",
    "fig, ax = fig_ax()\n",
    "ax.plot(freqs, Pxx_den)\n",
    "ax.set_xlabel(\"Frequency (1/day)\")\n",
    "ax.set_ylabel(\"PSD\");"
   ]
  },
  {
   "cell_type": "markdown",
   "metadata": {},
   "source": [
    "<div class=\"alert alert-success\" role=\"alert\">\n",
    "    <p><b>Question</b></p>\n",
    "    <p>What are the two periodic phenomena?</p>\n",
    "</div>"
   ]
  },
  {
   "cell_type": "markdown",
   "metadata": {},
   "source": [
    "# Matrix profile\n",
    "\n",
    "Informally, an outlier is a motif that only appears once a signal.\n",
    "The distance of this particular pattern from all other patterns is large.\n",
    "\n",
    "Algorithmically:\n",
    "\n",
    "- Compute the pairwise distances between all patterns.\n",
    "- Set to Inf the distance between patterns that overlap.\n",
    "- Take the minimum pairwise distance for each pattern (the profile)\n",
    "\n",
    "Then we apply outlier detection on the profile."
   ]
  },
  {
   "cell_type": "markdown",
   "metadata": {},
   "source": [
    "<div class=\"alert alert-success\" role=\"alert\">\n",
    "    <p><b>Question</b></p>\n",
    "    <p>Implement the matrix profile and run it for patterns of lengths 1 week (on the daily signal) and 1 day (on the original signal). Add comment in your code. Report the dates that you find interesting.</p>\n",
    "</div>"
   ]
  }
 ],
 "metadata": {
  "kernelspec": {
   "display_name": "Python 3 (ipykernel)",
   "language": "python",
   "name": "python3"
  },
  "language_info": {
   "codemirror_mode": {
    "name": "ipython",
    "version": 3
   },
   "file_extension": ".py",
   "mimetype": "text/x-python",
   "name": "python",
   "nbconvert_exporter": "python",
   "pygments_lexer": "ipython3",
   "version": "3.9.15"
  },
  "toc-autonumbering": true
 },
 "nbformat": 4,
 "nbformat_minor": 4
}
