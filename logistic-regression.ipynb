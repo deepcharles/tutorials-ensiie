{
 "cells": [
  {
   "attachments": {},
   "cell_type": "markdown",
   "id": "eb26bee4-86b9-4abe-9991-0a7d02b4f85a",
   "metadata": {},
   "source": [
    "**UE Initiation à la R&D - ENSIIE (2022/2023)**\n",
    "\n",
    "# Introduction\n",
    "\n",
    "In this notebook, we will illustrate two concepts:\n",
    "\n",
    "- supervised classification with a logistic regression,\n",
    "- supervised classification with a feed-forward neural network.\n",
    "\n",
    "# Setup"
   ]
  },
  {
   "cell_type": "code",
   "execution_count": null,
   "id": "c8625bb6-c13d-4750-aaaa-e8cfec8506c6",
   "metadata": {},
   "outputs": [],
   "source": [
    "import matplotlib.pyplot as plt\n",
    "import numpy as np\n",
    "import torch\n",
    "import torch.nn as nn\n",
    "from einops import asnumpy, rearrange, reduce\n",
    "from einops.layers.torch import Rearrange\n",
    "from torchvision import datasets\n",
    "from torchvision.transforms import ToTensor"
   ]
  },
  {
   "cell_type": "markdown",
   "id": "000d5916-1854-4df4-bba6-d42bfbb4ce06",
   "metadata": {},
   "source": [
    "# Multiclass classification: MNIST\n",
    "\n",
    "## Data"
   ]
  },
  {
   "cell_type": "code",
   "execution_count": null,
   "id": "44cc4c4b-ba67-4901-8053-567913258f60",
   "metadata": {},
   "outputs": [],
   "source": [
    "# load the data\n",
    "train_dataset = datasets.MNIST(\n",
    "    root=\"data\", train=True, download=True, transform=ToTensor()\n",
    ")\n",
    "\n",
    "test_dataset = datasets.MNIST(\n",
    "    root=\"data\", train=False, download=True, transform=ToTensor()\n",
    ")"
   ]
  },
  {
   "cell_type": "markdown",
   "id": "10f9aadf-f046-4e39-af8c-4eb41fffe98a",
   "metadata": {},
   "source": [
    "Plot some images."
   ]
  },
  {
   "cell_type": "code",
   "execution_count": null,
   "id": "79fd5374-05c5-43e6-994a-9c0d25434fea",
   "metadata": {},
   "outputs": [],
   "source": [
    "figure = plt.figure(figsize=(8, 8))\n",
    "cols, rows = 3, 3\n",
    "for i in range(1, cols * rows + 1):\n",
    "    sample_idx = torch.randint(len(train_dataset), size=(1,)).item()\n",
    "    img, label = train_dataset[sample_idx]\n",
    "    figure.add_subplot(rows, cols, i)\n",
    "    plt.axis(\"off\")\n",
    "    plt.imshow(img.squeeze(), cmap=\"gray\")\n",
    "plt.show()"
   ]
  },
  {
   "cell_type": "markdown",
   "id": "0193035a-c6eb-4644-8aea-05c84a309074",
   "metadata": {},
   "source": [
    "<div class=\"alert alert-success\" role=\"alert\">\n",
    "    <p><b>Question</b></p>\n",
    "    <p>What are the sizes of the train and test sets? What is the size of an image? The number of classes?</p>\n",
    "</div>"
   ]
  },
  {
   "cell_type": "code",
   "execution_count": null,
   "id": "dba67599-40d9-428a-bb9f-c32a2f0ca987",
   "metadata": {},
   "outputs": [],
   "source": [
    "input_size = ...\n",
    "n_classes = .."
   ]
  },
  {
   "cell_type": "markdown",
   "id": "fe84d48a-1218-418e-833d-f894040dc374",
   "metadata": {
    "tags": []
   },
   "source": [
    "## Logistic regression\n",
    "\n",
    "**Define the model.**"
   ]
  },
  {
   "cell_type": "code",
   "execution_count": null,
   "id": "976d411b-002a-498c-8b1b-04e0286bbff7",
   "metadata": {},
   "outputs": [],
   "source": [
    "model = nn.Sequential(\n",
    "    Rearrange(\"b c h w -> b (c h w)\"),  # batch channel height width\n",
    "    nn.Linear(in_features=input_size, out_features=n_classes),\n",
    "    nn.Sigmoid(),\n",
    ")\n",
    "model"
   ]
  },
  {
   "cell_type": "markdown",
   "id": "3b85ce1e-98e7-4cbc-93f4-88bf3a6c219c",
   "metadata": {},
   "source": [
    "**Define the loss**"
   ]
  },
  {
   "cell_type": "code",
   "execution_count": null,
   "id": "ca933e2a-662f-410c-8b16-a09e7b105463",
   "metadata": {},
   "outputs": [],
   "source": [
    "loss_func = nn.CrossEntropyLoss()"
   ]
  },
  {
   "cell_type": "markdown",
   "id": "c16b1c13-3ea6-484f-8c98-6938dd04e260",
   "metadata": {},
   "source": [
    "**Parameter for the optimization.**"
   ]
  },
  {
   "cell_type": "code",
   "execution_count": null,
   "id": "acde9cd4-4cde-4baf-8042-fe0383492681",
   "metadata": {},
   "outputs": [],
   "source": [
    "# Hyper-parameters\n",
    "n_epochs = 5\n",
    "batch_size = 100\n",
    "learning_rate = 0.001\n",
    "\n",
    "# batch loader\n",
    "train_loader = torch.utils.data.DataLoader(\n",
    "    dataset=train_dataset, batch_size=batch_size, shuffle=True\n",
    ")\n",
    "\n",
    "test_loader = torch.utils.data.DataLoader(\n",
    "    dataset=test_dataset, batch_size=batch_size, shuffle=False\n",
    ")\n",
    "\n",
    "n_batches = len(train_loader)"
   ]
  },
  {
   "cell_type": "code",
   "execution_count": null,
   "id": "8ef7d5b8-d1df-4fc6-8223-bf298e240e17",
   "metadata": {},
   "outputs": [],
   "source": [
    "# Optimizer\n",
    "optimizer = torch.optim.Adam(model.parameters(), lr=learning_rate)"
   ]
  },
  {
   "cell_type": "markdown",
   "id": "3ab8c9ef-a40a-4c49-b1e0-b351fed8e28b",
   "metadata": {},
   "source": [
    "### Train the model"
   ]
  },
  {
   "cell_type": "code",
   "execution_count": null,
   "id": "6f93f34c-310d-4793-a6df-74ab880491dd",
   "metadata": {},
   "outputs": [],
   "source": [
    "for k_epoch in range(n_epochs):\n",
    "    for k_batch, (images, y_true) in enumerate(train_loader):\n",
    "\n",
    "        # Forward pass\n",
    "        y_pred = model(images)\n",
    "        loss = loss_func(y_pred, y_true)\n",
    "\n",
    "        # Backward and optimize\n",
    "        optimizer.zero_grad()\n",
    "        loss.backward()\n",
    "        optimizer.step()\n",
    "\n",
    "        if (k_batch + 1) % 100 == 0:\n",
    "            msg = f\"Epoch [{k_epoch+1}/{n_epochs}], Batch [{k_batch + 1}/{n_batches}], Loss: {loss.item():.4f}\"\n",
    "            print(msg, end=\"\\r\")"
   ]
  },
  {
   "cell_type": "markdown",
   "id": "23928105-4073-455e-adc7-446ab1372b84",
   "metadata": {},
   "source": [
    "### Compute the test error"
   ]
  },
  {
   "cell_type": "code",
   "execution_count": null,
   "id": "89af1f10-0aee-4ef2-8337-10584dc7a9df",
   "metadata": {},
   "outputs": [],
   "source": [
    "# In test phase, we don't need to compute gradients (for memory efficiency)\n",
    "with torch.no_grad():\n",
    "    correct = 0\n",
    "    total = 0\n",
    "    for (images, y_true) in test_loader:\n",
    "        y_prob = model(images)\n",
    "        _, y_pred = torch.max(y_prob.data, 1)  # argmax for each test instance\n",
    "\n",
    "        total += y_true.size(0)\n",
    "        correct += (y_pred == y_true).sum().item()\n",
    "\n",
    "    print(\n",
    "        f\"Accuracy of the network on the 10000 test images: {100 * correct / total} %\"\n",
    "    )"
   ]
  },
  {
   "cell_type": "markdown",
   "id": "48758d45-3193-491c-b4f7-9f525d8bba2f",
   "metadata": {},
   "source": [
    "### Display the learned weights"
   ]
  },
  {
   "cell_type": "code",
   "execution_count": null,
   "id": "88881e1d-16e0-43cb-82f8-72f6718a81c3",
   "metadata": {},
   "outputs": [],
   "source": [
    "linear_layer = model[1]\n",
    "weights = asnumpy(rearrange(linear_layer.weight, \"c (h w)-> c h w\", h=28, w=28))"
   ]
  },
  {
   "cell_type": "code",
   "execution_count": null,
   "id": "b411f28b-1ffa-41b4-993b-9d7c7ad3a43c",
   "metadata": {},
   "outputs": [],
   "source": [
    "scale = np.abs(weights).max()\n",
    "plt.figure(figsize=(10, 5))\n",
    "\n",
    "for i in range(10):  # 0-9\n",
    "    coef_plot = plt.subplot(2, 5, i + 1)  # 2x5 plot\n",
    "\n",
    "    coef_plot.imshow(\n",
    "        weights[i], cmap=plt.cm.RdBu, vmin=-scale, vmax=scale, interpolation=\"bilinear\"\n",
    "    )\n",
    "\n",
    "    coef_plot.set_xticks(())\n",
    "    coef_plot.set_yticks(())  # remove ticks\n",
    "    coef_plot.set_xlabel(f\"Class {i}\")\n",
    "\n",
    "plt.suptitle(\"Coefficients for various classes\");"
   ]
  },
  {
   "cell_type": "markdown",
   "id": "9e1117bb-55ea-4d67-a10e-084c40c27c63",
   "metadata": {},
   "source": [
    "<div class=\"alert alert-success\" role=\"alert\">\n",
    "    <p><b>Question</b></p>\n",
    "    <p>Interpretation?</p>\n",
    "</div>"
   ]
  },
  {
   "cell_type": "markdown",
   "id": "4b985f13-292b-4a61-b122-4d446f2c604f",
   "metadata": {},
   "source": [
    "## Feed-forward neural network"
   ]
  },
  {
   "cell_type": "markdown",
   "id": "4236d91b-e79c-4441-943a-ab1df9f6770a",
   "metadata": {},
   "source": [
    "<div class=\"alert alert-success\" role=\"alert\">\n",
    "    <p><b>Question</b></p>\n",
    "    <p>Describe a simple neural network.</p>\n",
    "</div>"
   ]
  },
  {
   "cell_type": "markdown",
   "id": "9f52004b-2a7c-4b53-9974-9cbb9bfc1853",
   "metadata": {},
   "source": [
    "<div class=\"alert alert-success\" role=\"alert\">\n",
    "    <p><b>Question</b></p>\n",
    "    <p>Is this model better or worse than the logistic regression? Try different hidden sizes.</p>\n",
    "</div>"
   ]
  },
  {
   "cell_type": "markdown",
   "id": "312b2444-d058-48cf-9575-9ecf067bea06",
   "metadata": {},
   "source": [
    "<div class=\"alert alert-success\" role=\"alert\">\n",
    "    <p><b>Question</b></p>\n",
    "    <p>Which error do you report on this task?</p>\n",
    "</div>"
   ]
  }
 ],
 "metadata": {
  "kernelspec": {
   "display_name": "Python 3 (ipykernel)",
   "language": "python",
   "name": "python3"
  },
  "language_info": {
   "codemirror_mode": {
    "name": "ipython",
    "version": 3
   },
   "file_extension": ".py",
   "mimetype": "text/x-python",
   "name": "python",
   "nbconvert_exporter": "python",
   "pygments_lexer": "ipython3",
   "version": "3.9.15"
  }
 },
 "nbformat": 4,
 "nbformat_minor": 5
}
