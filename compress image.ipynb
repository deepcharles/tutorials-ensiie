{
 "cells": [
  {
   "cell_type": "code",
   "execution_count": 33,
   "id": "36b06b52-02de-4d49-a361-489132148980",
   "metadata": {
    "tags": []
   },
   "outputs": [],
   "source": [
    "import numpy as np\n",
    "import matplotlib.pyplot as plt"
   ]
  },
  {
   "cell_type": "markdown",
   "id": "cb30faba-35d1-429b-a3d2-0789cdf9f32d",
   "metadata": {},
   "source": [
    "## Load an image"
   ]
  },
  {
   "cell_type": "code",
   "execution_count": 26,
   "id": "7661d930-fe14-492d-a4d6-9591f0ce1b72",
   "metadata": {
    "tags": []
   },
   "outputs": [],
   "source": [
    "import urllib.request\n",
    "from PIL import Image\n",
    "  \n",
    "def load_image(url: str):\n",
    "    urllib.request.urlretrieve(url, \"image.jpg\")\n",
    "    img = Image.open(\"image.jpg\")\n",
    "    return np.array(img, dtype=float)"
   ]
  },
  {
   "cell_type": "markdown",
   "id": "597bb3f6-9d6f-41e5-a750-7524b1bf2bb1",
   "metadata": {},
   "source": [
    "<div class=\"alert alert-success\">\n",
    "    <p><b>QUESTIONS</b>:</p>\n",
    "    <ul>\n",
    "        <li>Find a high quality image on the net. What is the shape of the array?</li>\n",
    "    </ul>\n",
    "</div>"
   ]
  },
  {
   "cell_type": "code",
   "execution_count": 27,
   "id": "acc290bd-a802-4cfc-af53-e6ced9e44564",
   "metadata": {
    "tags": []
   },
   "outputs": [],
   "source": [
    "image = load_image(...)"
   ]
  },
  {
   "cell_type": "markdown",
   "id": "b69e7445-9d5e-45ab-847e-f82547d1d1b8",
   "metadata": {},
   "source": [
    "<div class=\"alert alert-success\">\n",
    "    <p><b>QUESTIONS</b>:</p>\n",
    "    <ul>\n",
    "        <li>How many unique colors are there in the image?</li>\n",
    "    </ul>\n",
    "</div>"
   ]
  },
  {
   "cell_type": "code",
   "execution_count": null,
   "id": "5be68e36-76ef-43ee-90cf-6917b2cc86d6",
   "metadata": {
    "tags": []
   },
   "outputs": [],
   "source": []
  },
  {
   "cell_type": "markdown",
   "id": "4d7caa76-cd37-43a8-aebc-964d6948c2cf",
   "metadata": {},
   "source": [
    "<div class=\"alert alert-success\">\n",
    "    <p><b>QUESTIONS</b>:</p>\n",
    "    <ul>\n",
    "        <li>Choose a clustering algorithm and cluster all colors in 64 clusters.</li>\n",
    "    </ul>\n",
    "</div>"
   ]
  },
  {
   "cell_type": "code",
   "execution_count": null,
   "id": "87aa3392-49cf-4bfd-8f27-98fd392272fe",
   "metadata": {},
   "outputs": [],
   "source": []
  },
  {
   "cell_type": "markdown",
   "id": "fc71f50d-62f1-4c77-9ba3-6189179689ba",
   "metadata": {},
   "source": [
    "<div class=\"alert alert-success\">\n",
    "    <p><b>QUESTIONS</b>:</p>\n",
    "    <ul>\n",
    "        <li>Compress the image using only 64 colors. Show the result.</li>\n",
    "    </ul>\n",
    "</div>"
   ]
  },
  {
   "cell_type": "code",
   "execution_count": null,
   "id": "1dfc8150-b799-43bf-a262-ee156f895b87",
   "metadata": {},
   "outputs": [],
   "source": []
  }
 ],
 "metadata": {
  "kernelspec": {
   "display_name": "Python 3 (ipykernel)",
   "language": "python",
   "name": "python3"
  },
  "language_info": {
   "codemirror_mode": {
    "name": "ipython",
    "version": 3
   },
   "file_extension": ".py",
   "mimetype": "text/x-python",
   "name": "python",
   "nbconvert_exporter": "python",
   "pygments_lexer": "ipython3",
   "version": "3.9.16"
  }
 },
 "nbformat": 4,
 "nbformat_minor": 5
}
